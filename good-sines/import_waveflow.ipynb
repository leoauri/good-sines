{
 "cells": [
  {
   "cell_type": "code",
   "execution_count": null,
   "id": "88de6e16",
   "metadata": {},
   "outputs": [],
   "source": [
    "%load_ext autoreload\n",
    "%autoreload 2"
   ]
  },
  {
   "cell_type": "code",
   "execution_count": null,
   "id": "5f56f524",
   "metadata": {},
   "outputs": [],
   "source": [
    "from waveflow import WaveFlow\n",
    "from torch import Tensor"
   ]
  },
  {
   "cell_type": "code",
   "execution_count": null,
   "id": "3fd30db1",
   "metadata": {},
   "outputs": [],
   "source": [
    "model = WaveFlow()"
   ]
  },
  {
   "cell_type": "code",
   "execution_count": null,
   "id": "529de5e8",
   "metadata": {},
   "outputs": [],
   "source": []
  }
 ],
 "metadata": {
  "kernelspec": {
   "display_name": "Python 3",
   "language": "python",
   "name": "python3"
  },
  "language_info": {
   "codemirror_mode": {
    "name": "ipython",
    "version": 3
   },
   "file_extension": ".py",
   "mimetype": "text/x-python",
   "name": "python",
   "nbconvert_exporter": "python",
   "pygments_lexer": "ipython3",
   "version": "3.9.5"
  }
 },
 "nbformat": 4,
 "nbformat_minor": 5
}
